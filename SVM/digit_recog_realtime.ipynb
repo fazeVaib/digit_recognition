{
 "cells": [
  {
   "cell_type": "code",
   "execution_count": 1,
   "metadata": {},
   "outputs": [],
   "source": [
    "import cv2 as cv\n",
    "from sklearn.externals import joblib\n",
    "from skimage.feature import hog\n",
    "import numpy as np"
   ]
  },
  {
   "cell_type": "code",
   "execution_count": 2,
   "metadata": {},
   "outputs": [],
   "source": [
    "clf, preproc = joblib.load('mnist_clf_svm.pkl')"
   ]
  },
  {
   "cell_type": "code",
   "execution_count": 3,
   "metadata": {},
   "outputs": [],
   "source": [
    "def get_ict(img):\n",
    "    x, y, w, h = 0, 0, 300, 300\n",
    "    \n",
    "    # Change color-space from BGR -> Gray\n",
    "    gray = cv.cvtColor(img, cv.COLOR_BGR2GRAY)\n",
    "    \n",
    "    # Apply Gaussian Blur and Threshold\n",
    "    blur = cv.GaussianBlur(gray, (37, 37), 0)\n",
    "    kernel = cv.getStructuringElement(cv.MORPH_RECT,(5,5))\n",
    "    blackhat = cv.morphologyEx(blur,cv.MORPH_BLACKHAT,kernel)\n",
    "    _,thresh = cv.threshold(blackhat,0,255,cv.THRESH_BINARY)\n",
    "    thresh = cv.dilate(thresh,None)\n",
    "    # Making thresh image of size x, y, w, h = 0, 0, 300, 300\n",
    "    # thresh = thresh[y:y + h, x:x + w]\n",
    "    \n",
    "    # Find contours\n",
    "    _, contours, hierarchy = cv.findContours(thresh, cv.RETR_TREE, cv.CHAIN_APPROX_SIMPLE)\n",
    "    \n",
    "    return img, contours, thresh"
   ]
  },
  {
   "cell_type": "code",
   "execution_count": 4,
   "metadata": {},
   "outputs": [],
   "source": [
    "def main():\n",
    "    \n",
    "    # accessing camera\n",
    "    capture = cv.VideoCapture(0)\n",
    "    \n",
    "    while(capture.isOpened()):\n",
    "        ret, img = capture.read()\n",
    "        \n",
    "        img, contours, threshold = get_ict(img)\n",
    "        \n",
    "        result = ''\n",
    "        \n",
    "        if len(contours)>0:\n",
    "            contour = max(contours, key=cv.contourArea)\n",
    "            if cv.contourArea(contour) > 1500 and cv.contourArea(contour) < 5000:\n",
    "                x, y, w, h = cv.boundingRect(contour)\n",
    "                \n",
    "                newimg = threshold[y:y+h, x:x+w]\n",
    "                \n",
    "                newimg = cv.resize(newimg, (28,28))\n",
    "                newimg = np.array(newimg)\n",
    "                \n",
    "                hog_ft = hog(newimg, orientations=9, pixels_per_cell=(14, 14), \n",
    "                             cells_per_block=(1, 1), block_norm='L2')\n",
    "                \n",
    "                hog_ft = preproc.transform(np.array([hog_ft], 'float64'))\n",
    "                result = clf.predict(hog_ft)\n",
    "        \n",
    "        #constructing bounding rectangles\n",
    "        x, y, w, h = 0, 0, 300, 300\n",
    "        cv.rectangle(img, (x, y), (x + w, y + h), (0, 255, 0), 2)\n",
    "        cv.putText(img, \"svm : \" + str(result), (10, 320),\n",
    "                    cv.FONT_HERSHEY_SIMPLEX, 0.7, (0, 0, 255), 2)\n",
    "        \n",
    "        cv.imshow(\"Frame\", img)\n",
    "        cv.imshow(\"Contours\", threshold)\n",
    "        k = cv.waitKey(10)\n",
    "        if k==27:\n",
    "            break"
   ]
  },
  {
   "cell_type": "code",
   "execution_count": 5,
   "metadata": {},
   "outputs": [
    {
     "ename": "KeyboardInterrupt",
     "evalue": "",
     "output_type": "error",
     "traceback": [
      "\u001b[0;31m---------------------------------------------------------------------------\u001b[0m",
      "\u001b[0;31mKeyboardInterrupt\u001b[0m                         Traceback (most recent call last)",
      "\u001b[0;32m<ipython-input-5-263240bbee7e>\u001b[0m in \u001b[0;36m<module>\u001b[0;34m()\u001b[0m\n\u001b[0;32m----> 1\u001b[0;31m \u001b[0mmain\u001b[0m\u001b[0;34m(\u001b[0m\u001b[0;34m)\u001b[0m\u001b[0;34m\u001b[0m\u001b[0m\n\u001b[0m",
      "\u001b[0;32m<ipython-input-4-fb75ca3554ab>\u001b[0m in \u001b[0;36mmain\u001b[0;34m()\u001b[0m\n\u001b[1;32m      5\u001b[0m \u001b[0;34m\u001b[0m\u001b[0m\n\u001b[1;32m      6\u001b[0m     \u001b[0;32mwhile\u001b[0m\u001b[0;34m(\u001b[0m\u001b[0mcapture\u001b[0m\u001b[0;34m.\u001b[0m\u001b[0misOpened\u001b[0m\u001b[0;34m(\u001b[0m\u001b[0;34m)\u001b[0m\u001b[0;34m)\u001b[0m\u001b[0;34m:\u001b[0m\u001b[0;34m\u001b[0m\u001b[0m\n\u001b[0;32m----> 7\u001b[0;31m         \u001b[0mret\u001b[0m\u001b[0;34m,\u001b[0m \u001b[0mimg\u001b[0m \u001b[0;34m=\u001b[0m \u001b[0mcapture\u001b[0m\u001b[0;34m.\u001b[0m\u001b[0mread\u001b[0m\u001b[0;34m(\u001b[0m\u001b[0;34m)\u001b[0m\u001b[0;34m\u001b[0m\u001b[0m\n\u001b[0m\u001b[1;32m      8\u001b[0m \u001b[0;34m\u001b[0m\u001b[0m\n\u001b[1;32m      9\u001b[0m         \u001b[0mimg\u001b[0m\u001b[0;34m,\u001b[0m \u001b[0mcontours\u001b[0m\u001b[0;34m,\u001b[0m \u001b[0mthreshold\u001b[0m \u001b[0;34m=\u001b[0m \u001b[0mget_ict\u001b[0m\u001b[0;34m(\u001b[0m\u001b[0mimg\u001b[0m\u001b[0;34m)\u001b[0m\u001b[0;34m\u001b[0m\u001b[0m\n",
      "\u001b[0;31mKeyboardInterrupt\u001b[0m: "
     ]
    }
   ],
   "source": [
    "main()"
   ]
  }
 ],
 "metadata": {
  "kernelspec": {
   "display_name": "Python [conda env:MLenv]",
   "language": "python",
   "name": "conda-env-MLenv-py"
  },
  "language_info": {
   "codemirror_mode": {
    "name": "ipython",
    "version": 3
   },
   "file_extension": ".py",
   "mimetype": "text/x-python",
   "name": "python",
   "nbconvert_exporter": "python",
   "pygments_lexer": "ipython3",
   "version": "3.6.5"
  }
 },
 "nbformat": 4,
 "nbformat_minor": 2
}
