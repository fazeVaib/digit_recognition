{
 "cells": [
  {
   "cell_type": "markdown",
   "metadata": {},
   "source": [
    "### Training Model using SVM\n",
    "\n",
    "We'll be using MNIST dataset to train our model."
   ]
  },
  {
   "cell_type": "markdown",
   "metadata": {},
   "source": [
    "#### Importing Modules "
   ]
  },
  {
   "cell_type": "code",
   "execution_count": 1,
   "metadata": {},
   "outputs": [],
   "source": [
    "import numpy as np \n",
    "from sklearn.svm import SVC\n",
    "from tensorflow import keras\n",
    "from sklearn.externals import joblib # for saving our model\n",
    "from sklearn import preprocessing # for standardizing the dataset\n",
    "from skimage.feature import hog # Extract Histogram of Oriented Gradients (HOG) for a given image."
   ]
  },
  {
   "cell_type": "markdown",
   "metadata": {},
   "source": [
    "Loading the MNIST dataset"
   ]
  },
  {
   "cell_type": "code",
   "execution_count": 2,
   "metadata": {},
   "outputs": [
    {
     "name": "stdout",
     "output_type": "stream",
     "text": [
      "(60000, 28, 28) (60000,) (10000, 28, 28) (10000,)\n"
     ]
    }
   ],
   "source": [
    "(traindata,trainlabel), (testdata, testlabel) = keras.datasets.mnist.load_data()\n",
    "print(traindata.shape, trainlabel.shape, testdata.shape, testlabel.shape)"
   ]
  },
  {
   "cell_type": "code",
   "execution_count": 3,
   "metadata": {},
   "outputs": [
    {
     "data": {
      "text/plain": [
       "array([0, 1, 2, 3, 4, 5, 6, 7, 8, 9], dtype=uint8)"
      ]
     },
     "execution_count": 3,
     "metadata": {},
     "output_type": "execute_result"
    }
   ],
   "source": [
    "np.unique(trainlabel)"
   ]
  },
  {
   "cell_type": "code",
   "execution_count": 4,
   "metadata": {},
   "outputs": [],
   "source": [
    "hog_feature_list = []\n",
    "hog_test = []\n",
    "\n",
    "for data in traindata:\n",
    "    ft = hog(data, orientations=9, pixels_per_cell=(14,14), cells_per_block=(1,1), block_norm='L2')\n",
    "    hog_feature_list.append(ft)\n",
    "    \n",
    "for data in testdata:\n",
    "    ft = hog(data, orientations=9, pixels_per_cell=(14,14), cells_per_block=(1,1), block_norm='L2')\n",
    "    hog_test.append(ft)\n",
    "    \n",
    "hog_features = np.array(hog_feature_list, 'float64')\n",
    "hog_tests = np.array(hog_test, 'float64')"
   ]
  },
  {
   "cell_type": "markdown",
   "metadata": {},
   "source": [
    "Normalizing the features"
   ]
  },
  {
   "cell_type": "code",
   "execution_count": 5,
   "metadata": {},
   "outputs": [
    {
     "name": "stdout",
     "output_type": "stream",
     "text": [
      "[[ 0.18731872  0.08012478  0.1121922  ...,  0.68415734  0.          0.17213193]\n",
      " [ 0.15220306  0.35062899  0.90692261 ...,  0.          0.00974567\n",
      "   0.05494797]\n",
      " [ 0.95974139  0.22190396  0.08266112 ...,  0.          0.07947358\n",
      "   0.24404607]\n",
      " ..., \n",
      " [ 0.37951852  0.21387377  0.66362078 ...,  0.30175018  0.41953551\n",
      "   0.21952503]\n",
      " [ 0.0838975   0.36592554  0.91084115 ...,  0.04155447  0.04169599\n",
      "   0.0913299 ]\n",
      " [ 0.3547843   0.5992179   0.71428882 ...,  0.          0.          0.        ]] (60000, 36)\n"
     ]
    }
   ],
   "source": [
    "print(hog_features, hog_features.shape)"
   ]
  },
  {
   "cell_type": "code",
   "execution_count": 6,
   "metadata": {},
   "outputs": [
    {
     "name": "stdout",
     "output_type": "stream",
     "text": [
      "[[-0.68066306 -0.94758589 -1.09045699 ...,  3.06480481 -0.77028649\n",
      "   0.39592982]\n",
      " [-0.81159247  0.08932     1.47240022 ..., -0.68218808 -0.7036827\n",
      "  -0.46124577]\n",
      " [ 2.19933019 -0.40411313 -1.18568923 ..., -0.68218808 -0.22714892\n",
      "   0.92196634]\n",
      " ..., \n",
      " [ 0.03595772 -0.43489474  0.68779723 ...,  0.9704373   2.09689913\n",
      "   0.74260014]\n",
      " [-1.0662711   0.14795528  1.48503678 ..., -0.45460253 -0.48532813\n",
      "  -0.19511973]\n",
      " [-0.05626433  1.04221945  0.85119221 ..., -0.68218808 -0.77028649\n",
      "  -0.86317839]] (60000, 36)\n"
     ]
    }
   ],
   "source": [
    "preproc = preprocessing.StandardScaler().fit(hog_features)\n",
    "hog_features = preproc.transform(hog_features)\n",
    "hog_tests = preproc.transform(hog_tests)\n",
    "print(hog_features, hog_features.shape)"
   ]
  },
  {
   "cell_type": "code",
   "execution_count": 7,
   "metadata": {},
   "outputs": [
    {
     "data": {
      "text/plain": [
       "SVC(C=5, cache_size=200, class_weight=None, coef0=0.0,\n",
       "  decision_function_shape='ovr', degree=3, gamma=0.05, kernel='rbf',\n",
       "  max_iter=-1, probability=False, random_state=None, shrinking=True,\n",
       "  tol=0.001, verbose=False)"
      ]
     },
     "execution_count": 7,
     "metadata": {},
     "output_type": "execute_result"
    }
   ],
   "source": [
    "clf = SVC(C=5, gamma=0.05)\n",
    "clf.fit(hog_features, trainlabel)"
   ]
  },
  {
   "cell_type": "code",
   "execution_count": 8,
   "metadata": {},
   "outputs": [
    {
     "data": {
      "text/plain": [
       "0.9962833333333333"
      ]
     },
     "execution_count": 8,
     "metadata": {},
     "output_type": "execute_result"
    }
   ],
   "source": [
    "clf.score(hog_features, trainlabel)"
   ]
  },
  {
   "cell_type": "code",
   "execution_count": 9,
   "metadata": {},
   "outputs": [
    {
     "data": {
      "text/plain": [
       "['mnist_clf_svm.pkl']"
      ]
     },
     "execution_count": 9,
     "metadata": {},
     "output_type": "execute_result"
    }
   ],
   "source": [
    "joblib.dump((clf, preproc), \"mnist_clf_svm.pkl\", compress=3)\n",
    "#  Higher value means more compression, \n",
    "# but also slower read and write times. Using a value of 3 is often a good compromise"
   ]
  },
  {
   "cell_type": "code",
   "execution_count": 10,
   "metadata": {},
   "outputs": [
    {
     "data": {
      "text/plain": [
       "0.94920000000000004"
      ]
     },
     "execution_count": 10,
     "metadata": {},
     "output_type": "execute_result"
    }
   ],
   "source": [
    "clf.score(hog_tests, testlabel)"
   ]
  }
 ],
 "metadata": {
  "kernelspec": {
   "display_name": "Python [default]",
   "language": "python",
   "name": "python3"
  },
  "language_info": {
   "codemirror_mode": {
    "name": "ipython",
    "version": 3
   },
   "file_extension": ".py",
   "mimetype": "text/x-python",
   "name": "python",
   "nbconvert_exporter": "python",
   "pygments_lexer": "ipython3",
   "version": "3.6.5"
  }
 },
 "nbformat": 4,
 "nbformat_minor": 2
}
