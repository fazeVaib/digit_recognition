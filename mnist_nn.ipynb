{
 "cells": [
  {
   "cell_type": "markdown",
   "metadata": {},
   "source": [
    "# Digit Recognition using Neural Network"
   ]
  },
  {
   "cell_type": "markdown",
   "metadata": {},
   "source": [
    "### Introduction "
   ]
  },
  {
   "cell_type": "markdown",
   "metadata": {},
   "source": [
    "Artificial neural networks are one of the main tools used in machine learning. As the “neural” part of their name suggests, they are brain-inspired systems which are intended to replicate the way that we humans learn. Neural networks consist of input and output layers, as well as (in most cases) a hidden layer consisting of units that transform the input into something that the output layer can use. They are excellent tools for finding patterns which are far too complex or numerous for a human programmer to extract and teach the machine to recognize.\n",
    "<br> <br>\n",
    "Our network will have an input layer with 784 nodes, a single hidden layer with 300 nodes and an output layer with 10 nodes."
   ]
  },
  {
   "cell_type": "markdown",
   "metadata": {},
   "source": [
    "### Dataset Explained "
   ]
  },
  {
   "cell_type": "markdown",
   "metadata": {},
   "source": [
    "For the purpose of making Digit Recognition system, we'll be using MNIST Dataset.<br> The MNIST database of handwritten digits, has a training set of 60,000 examples, and a test set of 10,000 examples. It is a subset of a larger set available from NIST. The digits have been size-normalized and centered in a fixed-size image."
   ]
  },
  {
   "cell_type": "markdown",
   "metadata": {},
   "source": [
    "### Libraries Used "
   ]
  },
  {
   "cell_type": "markdown",
   "metadata": {},
   "source": [
    "We'll be using numpy for basic matrix and array calculations. <br> \n",
    "Pandas and Matplotlib are used just in case, we need to work with dataFrame or plot a graph. <br>\n",
    "Scipy is used to implement the Optimization algorithm. <br>\n",
    "Tensorflow is used to import the MNIST dataset"
   ]
  },
  {
   "cell_type": "code",
   "execution_count": 2,
   "metadata": {},
   "outputs": [],
   "source": [
    "import numpy as np\n",
    "import pandas as pd\n",
    "import matplotlib.pyplot as plt\n",
    "from scipy.optimize import minimize\n",
    "from sklearn.preprocessing import OneHotEncoder\n",
    "from tensorflow.examples.tutorials.mnist import input_data\n",
    "import warnings\n",
    "%matplotlib inline\n",
    "warnings.filterwarnings(\"always\")"
   ]
  },
  {
   "cell_type": "markdown",
   "metadata": {},
   "source": [
    "### Importing the Data "
   ]
  },
  {
   "cell_type": "markdown",
   "metadata": {},
   "source": [
    "We'll be importing the data with OneHot Encoder set as True. <br>\n",
    "One-hot encoding turns a class label n (out of k classes) into a vector of length k where index n is \"hot\" (1) while the rest are zero.\n",
    "Eg. for digits labelled 0-9, 1 maybe represented as [0,1,0,0,0,0,0,0,0,0]"
   ]
  },
  {
   "cell_type": "code",
   "execution_count": 4,
   "metadata": {},
   "outputs": [
    {
     "name": "stdout",
     "output_type": "stream",
     "text": [
      "Extracting MNIST_data/train-images-idx3-ubyte.gz\n",
      "Extracting MNIST_data/train-labels-idx1-ubyte.gz\n",
      "Extracting MNIST_data/t10k-images-idx3-ubyte.gz\n",
      "Extracting MNIST_data/t10k-labels-idx1-ubyte.gz\n"
     ]
    }
   ],
   "source": [
    "mnist = input_data.read_data_sets(\"MNIST_data/\", one_hot=True)\n"
   ]
  },
  {
   "cell_type": "code",
   "execution_count": 80,
   "metadata": {},
   "outputs": [
    {
     "data": {
      "text/plain": [
       "((55000, 784), (55000, 10))"
      ]
     },
     "execution_count": 80,
     "metadata": {},
     "output_type": "execute_result"
    }
   ],
   "source": [
    "X = mnist.train.images # Train data\n",
    "y = mnist.train.labels # Results of Training Data\n",
    "X_test = mnist.test.images # Data for Testing the Performance\n",
    "y_test = mnist.test.labels # Output Labels for Testing Data\n",
    "X.shape, y.shape"
   ]
  },
  {
   "cell_type": "markdown",
   "metadata": {},
   "source": [
    "### Representation of Single Input Data "
   ]
  },
  {
   "cell_type": "markdown",
   "metadata": {},
   "source": [
    "Lets see how one of the 55,000 input images look like. <br>\n",
    "We'll be plotting the figure from the 784 points we have."
   ]
  },
  {
   "cell_type": "code",
   "execution_count": 86,
   "metadata": {},
   "outputs": [
    {
     "data": {
      "text/plain": [
       "<matplotlib.image.AxesImage at 0x7f682919fac8>"
      ]
     },
     "execution_count": 86,
     "metadata": {},
     "output_type": "execute_result"
    },
    {
     "data": {
      "image/png": "[encoded data removed]",
      "text/plain": [
       "<Figure size 432x288 with 1 Axes>"
      ]
     },
     "metadata": {},
     "output_type": "display_data"
    }
   ],
   "source": [
    "trial = np.reshape(X_test[0], (28,28))\n",
    "plt.imshow(trial, interpolation=\"gaussian\")"
   ]
  },
  {
   "cell_type": "markdown",
   "metadata": {},
   "source": [
    "### Defining Sigmoid, Forward Propagation and Cost Function  "
   ]
  },
  {
   "cell_type": "markdown",
   "metadata": {},
   "source": [
    "<b>Forward Propagation: </b> We start from the input we have, pass them through the network layer and calculate the actual output of the model straightforwardly.<br>\n",
    "This step is called forward-propagation, because the calculation flow is going in the natural forward direction from the input -> through the neural network -> to the output.\n",
    "<br>\n",
    "<b>Cost Function: </b> At this stage, in one hand, we have the actual output of the randomly initialised neural network.\n",
    "On the other hand, we have the desired output we would like the network to learn.<br>\n",
    "In order to be able to generalise to any problem, we define what we call: loss function. Basically it is a performance metric on how well the NN manages to reach its goal of generating outputs as close as possible to the desired values.\n"
   ]
  },
  {
   "cell_type": "code",
   "execution_count": 33,
   "metadata": {},
   "outputs": [],
   "source": [
    "def sigmoid(z): # Sigmoid function for calculating chance of being that solution\n",
    "    return 1/(1+np.exp(-z))\n",
    "\n",
    "def forwardProp(X, theta1, theta2):    # for forward propagating in the neural network towards final outcome\n",
    "    m = X.shape[0]\n",
    "    # adding the bias node\n",
    "    # Object refers to the value before which it needs to insert\n",
    "    a1 = np.insert(X, obj=0, values=np.ones(m), axis=1) \n",
    "    z2 = a1 * theta1.T   # matrix multiplication\n",
    "    a2 = np.insert(sigmoid(z2), obj=0, values=np.ones(m), axis=1) # for hidden layer, adding bias node\n",
    "    z3 = a2 * theta2.T   # matrix multiplication\n",
    "    h = sigmoid(z3) # final hypothesis for layer 3 (final layer)\n",
    "    \n",
    "    return a1, z2, a2, z3, h\n",
    "\n",
    "def cost(params, inputSize, hiddenlayerSize, numOfLabels, X, y, rate):    # defining the cost function\n",
    "    m = X.shape[0]\n",
    "    X = np.matrix(X)\n",
    "    y = np.matrix(y)\n",
    "    \n",
    "    \n",
    "    # Changing (reshaping) the parameter array into theta matrices depending on size of each layer\n",
    "    theta1 = np.matrix(np.reshape(params[:hiddenlayerSize * (inputSize + 1)], (hiddenlayerSize, (inputSize + 1))))\n",
    "    theta2 = np.matrix(np.reshape(params[hiddenlayerSize * (inputSize + 1):],(numOfLabels, (hiddenlayerSize + 1))))\n",
    "    # since if a network has s(j) units in layer j \n",
    "    # and s(j+1) in layer j+1,\n",
    "    # then theta(j) will have dimension: s(j+1) x s(j)+1\n",
    "    \n",
    "    \n",
    "    \n",
    "    # passing theta to feed-forward algorithm\n",
    "    a1, z2, a2, z3, h = forwardProp(X, theta1, theta2)\n",
    "    \n",
    "    # Computing the cost now (without regularization)\n",
    "    J = 0\n",
    "    for i in range(m):\n",
    "        first = np.multiply(-y[i,:], np.log(h[i,:]))\n",
    "        second = np.multiply((1-y[i,:]), np.log(1 - h[i,:]))\n",
    "        J += np.sum((first - second))\n",
    "        \n",
    "    J = J/m\n",
    "    \n",
    "    # Regularizing the cost\n",
    "    J += (float(rate) /(2*m))*(np.sum(np.power(theta1[:,1:], 2)) + np.sum(np.power(theta2[:,1:], 2)))\n",
    "    return J\n",
    "    \n"
   ]
  },
  {
   "cell_type": "markdown",
   "metadata": {},
   "source": [
    "### Model Initialization "
   ]
  },
  {
   "cell_type": "markdown",
   "metadata": {},
   "source": [
    "Random initialisation of the model is a common practice. The rational behind is that from wherever we start, if we are perseverant enough and through an iterative learning process, we can reach the pseudo-ideal model."
   ]
  },
  {
   "cell_type": "code",
   "execution_count": 34,
   "metadata": {},
   "outputs": [
    {
     "data": {
      "text/plain": [
       "((300, 785), (10, 301))"
      ]
     },
     "execution_count": 34,
     "metadata": {},
     "output_type": "execute_result"
    }
   ],
   "source": [
    "inputSize = 784 # 784 intensity values for each image of 28 x 28\n",
    "hiddenlayerSize = 300\n",
    "numOfLabels = 10 # Since, there are 10 possible outputs\n",
    "rate = 1\n",
    "\n",
    "# randomly initializing the params array of the size of all parameters of network\n",
    "params = (np.random.random(size=hiddenlayerSize * (inputSize+1) + (numOfLabels*(hiddenlayerSize + 1))) - 0.5)*0.25\n",
    "\n",
    "m = X.shape[0]\n",
    "X = np.matrix(X)\n",
    "y = np.matrix(y)\n",
    "\n",
    "theta1 = np.matrix(np.reshape(params[:hiddenlayerSize * (inputSize + 1)], (hiddenlayerSize, (inputSize + 1))))\n",
    "theta2 = np.matrix(np.reshape(params[hiddenlayerSize * (inputSize + 1):],(numOfLabels, (hiddenlayerSize + 1))))\n",
    "\n",
    "theta1.shape, theta2.shape"
   ]
  },
  {
   "cell_type": "markdown",
   "metadata": {},
   "source": [
    "Calling in the Forward Propagation and generate our first sets of Parameter values. <br>\n",
    "Also checking in the dimensions of the returned parameters to observe if they are correct or not. "
   ]
  },
  {
   "cell_type": "code",
   "execution_count": 35,
   "metadata": {},
   "outputs": [
    {
     "data": {
      "text/plain": [
       "((55000, 785), (55000, 300), (55000, 301), (55000, 10), (55000, 10))"
      ]
     },
     "execution_count": 35,
     "metadata": {},
     "output_type": "execute_result"
    }
   ],
   "source": [
    "a1, z2, a2, z3, h = forwardProp(X, theta1, theta2)\n",
    "a1.shape, z2.shape, a2.shape, z3.shape, h.shape"
   ]
  },
  {
   "cell_type": "code",
   "execution_count": 37,
   "metadata": {},
   "outputs": [
    {
     "data": {
      "text/plain": [
       "7.9313403253022452"
      ]
     },
     "execution_count": 37,
     "metadata": {},
     "output_type": "execute_result"
    }
   ],
   "source": [
    "# Checking the cost\n",
    "cost(params, inputSize, hiddenlayerSize, numOfLabels, X, y, rate)"
   ]
  },
  {
   "cell_type": "markdown",
   "metadata": {},
   "source": [
    "### Back-propagation "
   ]
  },
  {
   "cell_type": "markdown",
   "metadata": {},
   "source": [
    "Given an artificial neural network and an error function, the method calculates the gradient of the error function with respect to the neural network's weights. It is a generalization of the delta rule for perceptrons to multilayer feedforward neural networks.\n",
    "<br>\n",
    "Let me summarize the steps for you:\n",
    "\n",
    "1. Calculate the error – How far is your model output from the actual output.\n",
    "2. Error minimum? – Check whether the error is minimized or not.\n",
    "3. Update the parameters – If the error is huge then, update the parameters (weights and biases). After that again check the error. Repeat the process until the error becomes minimum.\n",
    "4. Model is ready to make a prediction – Once the error becomes minimum, you can feed some inputs to your model and it will produce the output.\n",
    "<br>\n",
    "<br>\n",
    "Refer : <a href = \"https://brilliant.org/wiki/backpropagation/\"> More about BackPropagation </a> "
   ]
  },
  {
   "cell_type": "code",
   "execution_count": 40,
   "metadata": {},
   "outputs": [],
   "source": [
    "def sigGradient(z):\n",
    "    return np.multiply(sigmoid(z), (1- sigmoid(z)))\n",
    "\n",
    "def backProp(params, inputSize, hiddenlayerSize, numOfLabels, X, y, rate): # For minimizing cost function\n",
    "    print(\"Executing backpropagation\")\n",
    "    # FORWARD PROPAGATION PART\n",
    "    m = X.shape[0]\n",
    "    X = np.matrix(X)\n",
    "    y = np.matrix(y)\n",
    "    \n",
    "    \n",
    "    # Changing (reshaping) the parameter array into theta matrices depending on size of each layer\n",
    "    theta1 = np.matrix(np.reshape(params[:hiddenlayerSize * (inputSize + 1)], (hiddenlayerSize, (inputSize + 1))))\n",
    "    theta2 = np.matrix(np.reshape(params[hiddenlayerSize * (inputSize + 1):],(numOfLabels, (hiddenlayerSize + 1))))\n",
    "    \n",
    "    a1, z2, a2, z3, h = forwardProp(X, theta1, theta2)\n",
    "    \n",
    "    # PART TWO - MINIMIZING THE ERROR\n",
    "    J = 0\n",
    "    delta1 = np.zeros(theta1.shape) # (300, 785)\n",
    "    delta2 = np.zeros(theta2.shape) # (10, 301) \n",
    "    \n",
    "    # Compute the cost\n",
    "    for i in range(m):\n",
    "        first = np.multiply(-y[i,:], np.log(h[i,:]))\n",
    "        second = np.multiply((1-y[i,:]), np.log(1 - h[i,:]))\n",
    "        J += np.sum((first - second))\n",
    "        \n",
    "    J = J/m\n",
    "    \n",
    "    # Regularizing the cost\n",
    "    J += (float(rate) /(2*m))*(np.sum(np.power(theta1[:,1:], 2)) + np.sum(np.power(theta2[:,1:], 2)))\n",
    "    \n",
    "    \n",
    "    # performing backpropagation\n",
    "    for j in range(m):\n",
    "        a1j = a1[j,:] # (1, 785) -taking one row at a time\n",
    "        z2j = z2[j,:] # (1, 300)\n",
    "        a2j = a2[j,:] # (1, 301)\n",
    "        hj = h[j,:]   # (1, 10)\n",
    "        yj = y[j,:]   # (1, 10)\n",
    "        \n",
    "        d3j = hj -yj  # (1, 10) -difference between real and predicted value\n",
    "        \n",
    "        z2j = np.insert(z2j, obj=0, values=np.ones(1)) # (1, 301)\n",
    "        \n",
    "        # CARRYING OUT DIFFERENTIATION\n",
    "        d2j = np.multiply((theta2.T * d3j.T).T, sigGradient(z2j)) # (1, 301)\n",
    "        \n",
    "        delta1 = delta1 + (d2j[:, 1:]).T * a1j\n",
    "        delta2 = delta2 + (d3j.T * a2j)\n",
    "        \n",
    "    delta1 = delta1/m\n",
    "    delta2 = delta2/m\n",
    "    \n",
    "    # Regularizing the term\n",
    "    delta1[:, 1:] = delta1[:, 1:] + (theta1[:, 1:] * rate)/m\n",
    "    delta2[:, 1:] = delta2[:, 1:] + (theta2[:, 1:] * rate)/m\n",
    "    \n",
    "    #flatten these matrices for passing into minimize function\n",
    "    grad = np.concatenate((np.ravel(delta1), np.ravel(delta2))) # double brackets coz of more than 1 arguments\n",
    "    \n",
    "    return J, grad\n"
   ]
  },
  {
   "cell_type": "markdown",
   "metadata": {},
   "source": [
    "Carrying out Back-propagation and checking output after calling it once."
   ]
  },
  {
   "cell_type": "code",
   "execution_count": 39,
   "metadata": {},
   "outputs": [
    {
     "data": {
      "text/plain": [
       "(7.9313403253022452, (238510,))"
      ]
     },
     "execution_count": 39,
     "metadata": {},
     "output_type": "execute_result"
    }
   ],
   "source": [
    "J ,grad = backProp(params, inputSize, hiddenlayerSize, numOfLabels, X, y, rate)\n",
    "J, grad.shape"
   ]
  },
  {
   "cell_type": "markdown",
   "metadata": {},
   "source": [
    "### Optimization function to carry out backpropagation "
   ]
  },
  {
   "cell_type": "markdown",
   "metadata": {},
   "source": [
    "<a href = \"https://docs.scipy.org/doc/scipy-1.0.0/reference/generated/scipy.optimize.minimize.html\"> Definition of minimize function </a>"
   ]
  },
  {
   "cell_type": "code",
   "execution_count": 42,
   "metadata": {},
   "outputs": [
    {
     "name": "stdout",
     "output_type": "stream",
     "text": [
      "Executing backprop\n",
      "Executing backprop\n",
      "Executing backprop\n",
      "Executing backprop\n",
      "Executing backprop\n",
      "Executing backprop\n",
      "Executing backprop\n",
      "Executing backprop\n",
      "Executing backprop\n",
      "Executing backprop\n",
      "Executing backprop\n",
      "Executing backprop\n",
      "Executing backprop\n",
      "Executing backprop\n",
      "Executing backprop\n",
      "Executing backprop\n",
      "Executing backprop\n",
      "Executing backprop\n",
      "Executing backprop\n",
      "Executing backprop\n",
      "Executing backprop\n",
      "Executing backprop\n",
      "Executing backprop\n",
      "Executing backprop\n",
      "Executing backprop\n",
      "Executing backprop\n",
      "Executing backprop\n",
      "Executing backprop\n",
      "Executing backprop\n",
      "Executing backprop\n",
      "Executing backprop\n",
      "Executing backprop\n",
      "Executing backprop\n",
      "Executing backprop\n",
      "Executing backprop\n",
      "Executing backprop\n",
      "Executing backprop\n",
      "Executing backprop\n",
      "Executing backprop\n",
      "Executing backprop\n",
      "Executing backprop\n",
      "Executing backprop\n",
      "Executing backprop\n",
      "Executing backprop\n",
      "Executing backprop\n",
      "Executing backprop\n",
      "Executing backprop\n",
      "Executing backprop\n",
      "Executing backprop\n",
      "Executing backprop\n",
      "Executing backprop\n",
      "Executing backprop\n",
      "Executing backprop\n",
      "Executing backprop\n",
      "Executing backprop\n",
      "Executing backprop\n",
      "Executing backprop\n",
      "Executing backprop\n",
      "Executing backprop\n",
      "Executing backprop\n",
      "Executing backprop\n",
      "Executing backprop\n",
      "Executing backprop\n",
      "Executing backprop\n",
      "Executing backprop\n",
      "Executing backprop\n",
      "Executing backprop\n",
      "Executing backprop\n",
      "Executing backprop\n",
      "Executing backprop\n",
      "Executing backprop\n",
      "Executing backprop\n",
      "Executing backprop\n",
      "Executing backprop\n",
      "Executing backprop\n",
      "Executing backprop\n",
      "Executing backprop\n",
      "Executing backprop\n",
      "Executing backprop\n",
      "Executing backprop\n",
      "Executing backprop\n",
      "Executing backprop\n",
      "Executing backprop\n",
      "Executing backprop\n",
      "Executing backprop\n",
      "Executing backprop\n",
      "Executing backprop\n",
      "Executing backprop\n",
      "Executing backprop\n",
      "Executing backprop\n",
      "Executing backprop\n",
      "Executing backprop\n",
      "Executing backprop\n",
      "Executing backprop\n",
      "Executing backprop\n",
      "Executing backprop\n",
      "Executing backprop\n",
      "Executing backprop\n",
      "Executing backprop\n",
      "Executing backprop\n",
      "Executing backprop\n",
      "Executing backprop\n",
      "Executing backprop\n",
      "Executing backprop\n",
      "Executing backprop\n",
      "Executing backprop\n",
      "Executing backprop\n",
      "Executing backprop\n",
      "Executing backprop\n",
      "Executing backprop\n",
      "Executing backprop\n",
      "Executing backprop\n",
      "Executing backprop\n",
      "Executing backprop\n",
      "Executing backprop\n",
      "Executing backprop\n",
      "Executing backprop\n",
      "Executing backprop\n",
      "Executing backprop\n",
      "Executing backprop\n",
      "Executing backprop\n",
      "Executing backprop\n",
      "Executing backprop\n",
      "Executing backprop\n",
      "Executing backprop\n",
      "Executing backprop\n",
      "Executing backprop\n",
      "Executing backprop\n",
      "Executing backprop\n",
      "Executing backprop\n",
      "Executing backprop\n",
      "Executing backprop\n",
      "Executing backprop\n",
      "Executing backprop\n",
      "Executing backprop\n",
      "Executing backprop\n",
      "Executing backprop\n",
      "Executing backprop\n",
      "Executing backprop\n",
      "Executing backprop\n",
      "Executing backprop\n",
      "Executing backprop\n",
      "Executing backprop\n",
      "Executing backprop\n",
      "Executing backprop\n",
      "Executing backprop\n",
      "Executing backprop\n",
      "Executing backprop\n",
      "Executing backprop\n",
      "Executing backprop\n",
      "Executing backprop\n",
      "Executing backprop\n",
      "Executing backprop\n",
      "Executing backprop\n",
      "Executing backprop\n",
      "Executing backprop\n",
      "Executing backprop\n",
      "Executing backprop\n",
      "Executing backprop\n",
      "Executing backprop\n",
      "Executing backprop\n",
      "Executing backprop\n",
      "Executing backprop\n",
      "Executing backprop\n",
      "Executing backprop\n",
      "Executing backprop\n",
      "Executing backprop\n",
      "Executing backprop\n",
      "Executing backprop\n",
      "Executing backprop\n",
      "Executing backprop\n",
      "Executing backprop\n",
      "Executing backprop\n",
      "Executing backprop\n",
      "Executing backprop\n",
      "Executing backprop\n",
      "Executing backprop\n",
      "Executing backprop\n",
      "Executing backprop\n",
      "Executing backprop\n",
      "Executing backprop\n",
      "Executing backprop\n",
      "Executing backprop\n",
      "Executing backprop\n",
      "Executing backprop\n",
      "Executing backprop\n",
      "Executing backprop\n",
      "Executing backprop\n",
      "Executing backprop\n",
      "Executing backprop\n",
      "Executing backprop\n",
      "Executing backprop\n",
      "Executing backprop\n",
      "Executing backprop\n",
      "Executing backprop\n",
      "Executing backprop\n",
      "Executing backprop\n",
      "Executing backprop\n",
      "Executing backprop\n",
      "Executing backprop\n",
      "Executing backprop\n",
      "Executing backprop\n",
      "Executing backprop\n",
      "Executing backprop\n",
      "Executing backprop\n",
      "Executing backprop\n",
      "Executing backprop\n",
      "Executing backprop\n",
      "Executing backprop\n",
      "Executing backprop\n",
      "Executing backprop\n",
      "Executing backprop\n",
      "Executing backprop\n",
      "Executing backprop\n",
      "Executing backprop\n",
      "Executing backprop\n",
      "Executing backprop\n",
      "Executing backprop\n",
      "Executing backprop\n",
      "Executing backprop\n",
      "Executing backprop\n",
      "Executing backprop\n",
      "Executing backprop\n",
      "Executing backprop\n",
      "Executing backprop\n",
      "Executing backprop\n",
      "Executing backprop\n",
      "Executing backprop\n",
      "Executing backprop\n",
      "Executing backprop\n",
      "Executing backprop\n",
      "Executing backprop\n",
      "Executing backprop\n",
      "Executing backprop\n",
      "Executing backprop\n",
      "Executing backprop\n",
      "Executing backprop\n",
      "Executing backprop\n",
      "Executing backprop\n",
      "Executing backprop\n",
      "Executing backprop\n",
      "Executing backprop\n",
      "Executing backprop\n",
      "Executing backprop\n",
      "Executing backprop\n",
      "Executing backprop\n",
      "Executing backprop\n",
      "Executing backprop\n",
      "Executing backprop\n",
      "Executing backprop\n",
      "Executing backprop\n"
     ]
    },
    {
     "data": {
      "text/plain": [
       "     fun: 0.082602615659106454\n",
       "     jac: array([ -6.14522392e-05,   1.17001242e-06,   1.43894714e-06, ...,\n",
       "        -2.73410887e-04,  -2.02542883e-04,  -1.23258985e-04])\n",
       " message: 'Max. number of function evaluations reached'\n",
       "    nfev: 250\n",
       "     nit: 28\n",
       "  status: 3\n",
       " success: False\n",
       "       x: array([ 0.04321804,  0.06435068,  0.07914209, ...,  0.36742315,\n",
       "        0.07748465,  0.35887532])"
      ]
     },
     "execution_count": 42,
     "metadata": {},
     "output_type": "execute_result"
    }
   ],
   "source": [
    "fmin = minimize(fun=backProp, x0=params, args=(inputSize, hiddenlayerSize, numOfLabels, X, y, rate), \n",
    "               method='TNC', jac=True, options={'maxiter':250})\n",
    "fmin"
   ]
  },
  {
   "cell_type": "markdown",
   "metadata": {},
   "source": [
    "### Predictions: "
   ]
  },
  {
   "cell_type": "markdown",
   "metadata": {},
   "source": [
    "We'll be passing our X_test matrix to model which contains 10,000 images.<br>\n",
    "After that, we'll be predicting its outcome and compare it with the given labels."
   ]
  },
  {
   "cell_type": "code",
   "execution_count": 73,
   "metadata": {},
   "outputs": [
    {
     "data": {
      "text/plain": [
       "array([[7],\n",
       "       [2],\n",
       "       [1],\n",
       "       ..., \n",
       "       [4],\n",
       "       [5],\n",
       "       [6]])"
      ]
     },
     "execution_count": 73,
     "metadata": {},
     "output_type": "execute_result"
    }
   ],
   "source": [
    "X_test = np.matrix(X_test)\n",
    "    \n",
    "    \n",
    "# Changing (reshaping) the parameter array into theta matrices depending on size of each layer\n",
    "theta1 = np.matrix(np.reshape(fmin.x[:hiddenlayerSize * (inputSize + 1)], (hiddenlayerSize, (inputSize + 1))))\n",
    "theta2 = np.matrix(np.reshape(fmin.x[hiddenlayerSize * (inputSize + 1):],(numOfLabels, (hiddenlayerSize + 1))))\n",
    "    \n",
    "a1, z2, a2, z3, h = forwardProp(X_test, theta1, theta2)\n",
    "Ypredict =np.array(np.argmax(h, axis=1))\n",
    "Ypredict"
   ]
  },
  {
   "cell_type": "markdown",
   "metadata": {},
   "source": [
    "### Calculating Accuracy "
   ]
  },
  {
   "cell_type": "markdown",
   "metadata": {},
   "source": [
    "We'll be converting the outputs we got to a single digit having higest probability. <br>\n",
    "Both the predicted output and Labelled original outputs are converted to same format in order to easily compare them to find accuracy. <br>\n",
    "Afterwards, Accuracy of the result is being calculated."
   ]
  },
  {
   "cell_type": "code",
   "execution_count": 74,
   "metadata": {},
   "outputs": [
    {
     "data": {
      "text/plain": [
       "array([7, 2, 1, ..., 4, 5, 6])"
      ]
     },
     "execution_count": 74,
     "metadata": {},
     "output_type": "execute_result"
    }
   ],
   "source": [
    "y_test_normal =np.array(np.argmax(y_test, axis=1))\n",
    "y_test_normal"
   ]
  },
  {
   "cell_type": "code",
   "execution_count": 75,
   "metadata": {},
   "outputs": [
    {
     "data": {
      "text/plain": [
       "array([7, 2, 1, ..., 4, 5, 6])"
      ]
     },
     "execution_count": 75,
     "metadata": {},
     "output_type": "execute_result"
    }
   ],
   "source": [
    "Ypredict = np.reshape(np.ravel(Ypredict), (len(Ypredict),))\n",
    "Ypredict"
   ]
  },
  {
   "cell_type": "code",
   "execution_count": 76,
   "metadata": {},
   "outputs": [
    {
     "name": "stdout",
     "output_type": "stream",
     "text": [
      "Accuracy: 98.27%\n"
     ]
    }
   ],
   "source": [
    "accuracy = (Ypredict == y_test_normal).mean()\n",
    "print(\"Accuracy: {}%\".format(float(accuracy*100)))"
   ]
  },
  {
   "cell_type": "markdown",
   "metadata": {},
   "source": [
    "#### Lets check a Random input and predicted value "
   ]
  },
  {
   "cell_type": "code",
   "execution_count": 88,
   "metadata": {},
   "outputs": [
    {
     "data": {
      "text/plain": [
       "<matplotlib.image.AxesImage at 0x7f6815683c18>"
      ]
     },
     "execution_count": 88,
     "metadata": {},
     "output_type": "execute_result"
    },
    {
     "data": {
      "image/png": "[encoded data removed]",
      "text/plain": [
       "<Figure size 432x288 with 1 Axes>"
      ]
     },
     "metadata": {},
     "output_type": "display_data"
    }
   ],
   "source": [
    "stuff = np.reshape(X_test[25], (28,28))\n",
    "plt.imshow(stuff, interpolation=\"gaussian\")"
   ]
  },
  {
   "cell_type": "code",
   "execution_count": 91,
   "metadata": {},
   "outputs": [
    {
     "name": "stdout",
     "output_type": "stream",
     "text": [
      "Predicted by our network: 0 \n",
      "Original number: 0\n"
     ]
    }
   ],
   "source": [
    "print(\"Predicted by our network: {} \\nOriginal number: {}\".format(Ypredict[25], y_test_normal[25]))"
   ]
  },
  {
   "cell_type": "markdown",
   "metadata": {},
   "source": [
    "### Conclusion "
   ]
  },
  {
   "cell_type": "markdown",
   "metadata": {},
   "source": [
    "So, we were able to make a neural network that could predict the Handwritten digits by using MNIST Dataset. \n",
    "<br>\n",
    "We were able to achieve an accuracy of <b>98.27%</b>.\n",
    "<br>\n",
    "We can furthur improve our results by trying different types of networks, changing hidden layers, different learning rates and trying more advanced Optimization methods or more advanced Networks."
   ]
  }
 ],
 "metadata": {
  "kernelspec": {
   "display_name": "Python [conda env:MLenv]",
   "language": "python",
   "name": "conda-env-MLenv-py"
  },
  "language_info": {
   "codemirror_mode": {
    "name": "ipython",
    "version": 3
   },
   "file_extension": ".py",
   "mimetype": "text/x-python",
   "name": "python",
   "nbconvert_exporter": "python",
   "pygments_lexer": "ipython3",
   "version": "3.6.5"
  }
 },
 "nbformat": 4,
 "nbformat_minor": 2
}
